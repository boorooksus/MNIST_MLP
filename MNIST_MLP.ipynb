{
  "nbformat": 4,
  "nbformat_minor": 0,
  "metadata": {
    "colab": {
      "name": "MNIST_MLP.ipynb",
      "provenance": [],
      "collapsed_sections": []
    },
    "kernelspec": {
      "name": "python3",
      "display_name": "Python 3"
    },
    "language_info": {
      "name": "python"
    },
    "accelerator": "GPU",
    "widgets": {
      "application/vnd.jupyter.widget-state+json": {
        "390636b3b7ae49b99cfa51d17d3b7332": {
          "model_module": "@jupyter-widgets/controls",
          "model_name": "HBoxModel",
          "model_module_version": "1.5.0",
          "state": {
            "_view_name": "HBoxView",
            "_dom_classes": [],
            "_model_name": "HBoxModel",
            "_view_module": "@jupyter-widgets/controls",
            "_model_module_version": "1.5.0",
            "_view_count": null,
            "_view_module_version": "1.5.0",
            "box_style": "",
            "layout": "IPY_MODEL_a101511b43cc498eb2cb7308de54f202",
            "_model_module": "@jupyter-widgets/controls",
            "children": [
              "IPY_MODEL_13adc5122bb64aed8990aee9ff9ee327",
              "IPY_MODEL_11d99f639c63442cbf463b14fe56b1d8"
            ]
          }
        },
        "a101511b43cc498eb2cb7308de54f202": {
          "model_module": "@jupyter-widgets/base",
          "model_name": "LayoutModel",
          "model_module_version": "1.2.0",
          "state": {
            "_view_name": "LayoutView",
            "grid_template_rows": null,
            "right": null,
            "justify_content": null,
            "_view_module": "@jupyter-widgets/base",
            "overflow": null,
            "_model_module_version": "1.2.0",
            "_view_count": null,
            "flex_flow": null,
            "width": null,
            "min_width": null,
            "border": null,
            "align_items": null,
            "bottom": null,
            "_model_module": "@jupyter-widgets/base",
            "top": null,
            "grid_column": null,
            "overflow_y": null,
            "overflow_x": null,
            "grid_auto_flow": null,
            "grid_area": null,
            "grid_template_columns": null,
            "flex": null,
            "_model_name": "LayoutModel",
            "justify_items": null,
            "grid_row": null,
            "max_height": null,
            "align_content": null,
            "visibility": null,
            "align_self": null,
            "height": null,
            "min_height": null,
            "padding": null,
            "grid_auto_rows": null,
            "grid_gap": null,
            "max_width": null,
            "order": null,
            "_view_module_version": "1.2.0",
            "grid_template_areas": null,
            "object_position": null,
            "object_fit": null,
            "grid_auto_columns": null,
            "margin": null,
            "display": null,
            "left": null
          }
        },
        "13adc5122bb64aed8990aee9ff9ee327": {
          "model_module": "@jupyter-widgets/controls",
          "model_name": "FloatProgressModel",
          "model_module_version": "1.5.0",
          "state": {
            "_view_name": "ProgressView",
            "style": "IPY_MODEL_c994de9f44464b1ab33235bf0044da4f",
            "_dom_classes": [],
            "description": "  7%",
            "_model_name": "FloatProgressModel",
            "bar_style": "",
            "max": 9912422,
            "_view_module": "@jupyter-widgets/controls",
            "_model_module_version": "1.5.0",
            "value": 705536,
            "_view_count": null,
            "_view_module_version": "1.5.0",
            "orientation": "horizontal",
            "min": 0,
            "description_tooltip": null,
            "_model_module": "@jupyter-widgets/controls",
            "layout": "IPY_MODEL_e945ebadd9994cbba888ebe091cac339"
          }
        },
        "11d99f639c63442cbf463b14fe56b1d8": {
          "model_module": "@jupyter-widgets/controls",
          "model_name": "HTMLModel",
          "model_module_version": "1.5.0",
          "state": {
            "_view_name": "HTMLView",
            "style": "IPY_MODEL_18cb0324efb24fadabac0a65fa2862a3",
            "_dom_classes": [],
            "description": "",
            "_model_name": "HTMLModel",
            "placeholder": "​",
            "_view_module": "@jupyter-widgets/controls",
            "_model_module_version": "1.5.0",
            "value": " 705536/9912422 [00:19&lt;04:09, 36832.49it/s]",
            "_view_count": null,
            "_view_module_version": "1.5.0",
            "description_tooltip": null,
            "_model_module": "@jupyter-widgets/controls",
            "layout": "IPY_MODEL_23d01ee0c123418386183331795e3bb2"
          }
        },
        "c994de9f44464b1ab33235bf0044da4f": {
          "model_module": "@jupyter-widgets/controls",
          "model_name": "ProgressStyleModel",
          "model_module_version": "1.5.0",
          "state": {
            "_view_name": "StyleView",
            "_model_name": "ProgressStyleModel",
            "description_width": "initial",
            "_view_module": "@jupyter-widgets/base",
            "_model_module_version": "1.5.0",
            "_view_count": null,
            "_view_module_version": "1.2.0",
            "bar_color": null,
            "_model_module": "@jupyter-widgets/controls"
          }
        },
        "e945ebadd9994cbba888ebe091cac339": {
          "model_module": "@jupyter-widgets/base",
          "model_name": "LayoutModel",
          "model_module_version": "1.2.0",
          "state": {
            "_view_name": "LayoutView",
            "grid_template_rows": null,
            "right": null,
            "justify_content": null,
            "_view_module": "@jupyter-widgets/base",
            "overflow": null,
            "_model_module_version": "1.2.0",
            "_view_count": null,
            "flex_flow": null,
            "width": null,
            "min_width": null,
            "border": null,
            "align_items": null,
            "bottom": null,
            "_model_module": "@jupyter-widgets/base",
            "top": null,
            "grid_column": null,
            "overflow_y": null,
            "overflow_x": null,
            "grid_auto_flow": null,
            "grid_area": null,
            "grid_template_columns": null,
            "flex": null,
            "_model_name": "LayoutModel",
            "justify_items": null,
            "grid_row": null,
            "max_height": null,
            "align_content": null,
            "visibility": null,
            "align_self": null,
            "height": null,
            "min_height": null,
            "padding": null,
            "grid_auto_rows": null,
            "grid_gap": null,
            "max_width": null,
            "order": null,
            "_view_module_version": "1.2.0",
            "grid_template_areas": null,
            "object_position": null,
            "object_fit": null,
            "grid_auto_columns": null,
            "margin": null,
            "display": null,
            "left": null
          }
        },
        "18cb0324efb24fadabac0a65fa2862a3": {
          "model_module": "@jupyter-widgets/controls",
          "model_name": "DescriptionStyleModel",
          "model_module_version": "1.5.0",
          "state": {
            "_view_name": "StyleView",
            "_model_name": "DescriptionStyleModel",
            "description_width": "",
            "_view_module": "@jupyter-widgets/base",
            "_model_module_version": "1.5.0",
            "_view_count": null,
            "_view_module_version": "1.2.0",
            "_model_module": "@jupyter-widgets/controls"
          }
        },
        "23d01ee0c123418386183331795e3bb2": {
          "model_module": "@jupyter-widgets/base",
          "model_name": "LayoutModel",
          "model_module_version": "1.2.0",
          "state": {
            "_view_name": "LayoutView",
            "grid_template_rows": null,
            "right": null,
            "justify_content": null,
            "_view_module": "@jupyter-widgets/base",
            "overflow": null,
            "_model_module_version": "1.2.0",
            "_view_count": null,
            "flex_flow": null,
            "width": null,
            "min_width": null,
            "border": null,
            "align_items": null,
            "bottom": null,
            "_model_module": "@jupyter-widgets/base",
            "top": null,
            "grid_column": null,
            "overflow_y": null,
            "overflow_x": null,
            "grid_auto_flow": null,
            "grid_area": null,
            "grid_template_columns": null,
            "flex": null,
            "_model_name": "LayoutModel",
            "justify_items": null,
            "grid_row": null,
            "max_height": null,
            "align_content": null,
            "visibility": null,
            "align_self": null,
            "height": null,
            "min_height": null,
            "padding": null,
            "grid_auto_rows": null,
            "grid_gap": null,
            "max_width": null,
            "order": null,
            "_view_module_version": "1.2.0",
            "grid_template_areas": null,
            "object_position": null,
            "object_fit": null,
            "grid_auto_columns": null,
            "margin": null,
            "display": null,
            "left": null
          }
        }
      }
    }
  },
  "cells": [
    {
      "cell_type": "code",
      "metadata": {
        "id": "GRNoq1lR36i4"
      },
      "source": [
        "import torch\n",
        "from torch.nn import Sequential,Linear,Sigmoid,CrossEntropyLoss\n",
        "import torchvision\n",
        "import matplotlib.pyplot as plt\n",
        "import random"
      ],
      "execution_count": 1,
      "outputs": []
    },
    {
      "cell_type": "code",
      "metadata": {
        "id": "qZ576KwU39_4",
        "colab": {
          "base_uri": "https://localhost:8080/",
          "height": 85,
          "referenced_widgets": [
            "390636b3b7ae49b99cfa51d17d3b7332",
            "a101511b43cc498eb2cb7308de54f202",
            "13adc5122bb64aed8990aee9ff9ee327",
            "11d99f639c63442cbf463b14fe56b1d8",
            "c994de9f44464b1ab33235bf0044da4f",
            "e945ebadd9994cbba888ebe091cac339",
            "18cb0324efb24fadabac0a65fa2862a3",
            "23d01ee0c123418386183331795e3bb2"
          ]
        },
        "outputId": "45e626b4-4611-475b-f047-a741dbe34858"
      },
      "source": [
        "# 데이터 불러오기\n",
        "train_data=torchvision.datasets.MNIST('./mnist/', train=True, download=True,\n",
        "                                transform=torchvision.transforms.Compose([\n",
        "                                torchvision.transforms.ToTensor(),\n",
        "                                torchvision.transforms.Normalize((0.5,), (0.5,))\n",
        "                                 ]))\n",
        "test_data=torchvision.datasets.MNIST('./mnist/', train=False, download=True,\n",
        "                                transform=torchvision.transforms.Compose([\n",
        "                                torchvision.transforms.ToTensor(),\n",
        "                                torchvision.transforms.Normalize((0.5,), (0.5,))\n",
        "                                ]))\n",
        "\n",
        "train_data, val_data = torch.utils.data.random_split(train_data, [len(train_data) - 1000, 1000])\n"
      ],
      "execution_count": null,
      "outputs": [
        {
          "output_type": "stream",
          "text": [
            "Downloading http://yann.lecun.com/exdb/mnist/train-images-idx3-ubyte.gz\n",
            "Downloading http://yann.lecun.com/exdb/mnist/train-images-idx3-ubyte.gz to ./mnist/MNIST/raw/train-images-idx3-ubyte.gz\n"
          ],
          "name": "stdout"
        },
        {
          "output_type": "display_data",
          "data": {
            "application/vnd.jupyter.widget-view+json": {
              "model_id": "390636b3b7ae49b99cfa51d17d3b7332",
              "version_minor": 0,
              "version_major": 2
            },
            "text/plain": [
              "HBox(children=(FloatProgress(value=0.0, max=9912422.0), HTML(value='')))"
            ]
          },
          "metadata": {
            "tags": []
          }
        }
      ]
    },
    {
      "cell_type": "code",
      "metadata": {
        "id": "vg6c8hz88Lx_"
      },
      "source": [
        "batch_size_train = 100\n",
        "batch_size_val = 100\n",
        "batch_size_test = 100\n",
        "\n",
        "train_loader = torch.utils.data.DataLoader(train_data,batch_size=batch_size_train, shuffle=True)\n",
        "val_loader = torch.utils.data.DataLoader(val_data,batch_size=batch_size_val, shuffle=True)\n",
        "test_loader = torch.utils.data.DataLoader(test_data,batch_size=batch_size_test, shuffle=True)"
      ],
      "execution_count": null,
      "outputs": []
    },
    {
      "cell_type": "code",
      "metadata": {
        "id": "jm58KAf66zjb"
      },
      "source": [
        "# 모델 구성\n",
        "\n",
        "model = Sequential(\n",
        "          Linear(784, 10, bias=True),\n",
        "          Sigmoid(),\n",
        "          Linear(10, 10, bias=True),\n",
        "          Sigmoid()\n",
        "          ).to('cuda')"
      ],
      "execution_count": null,
      "outputs": []
    },
    {
      "cell_type": "code",
      "metadata": {
        "id": "Zmfa0fdr-dp4"
      },
      "source": [
        "# Loss, Optimizer 구성\n",
        "\n",
        "compute_loss = torch.nn.CrossEntropyLoss().to('cuda')\n",
        "optimizer = torch.optim.SGD(model.parameters(), lr=0.1)\n"
      ],
      "execution_count": null,
      "outputs": []
    },
    {
      "cell_type": "code",
      "metadata": {
        "colab": {
          "base_uri": "https://localhost:8080/"
        },
        "id": "vP6lwtR2-yBe",
        "outputId": "f999871c-5562-4ce5-b34f-1ff4a1051a12"
      },
      "source": [
        "# Train data로 학습\n",
        "\n",
        "for epoch in range(10):\n",
        "    avg_loss = 0\n",
        "    train_len = len(train_loader)\n",
        "\n",
        "    for batch_idx, (data, target) in enumerate(train_loader):\n",
        "        data = data.reshape(-1, 784).to('cuda')\n",
        "        target = target.to('cuda')\n",
        "\n",
        "        optimizer.zero_grad()\n",
        "        output = model(data)\n",
        "        loss = compute_loss(output, target)\n",
        "        loss.backward()\n",
        "        optimizer.step()\n",
        "\n",
        "        avg_loss += loss / train_len\n",
        "\n",
        "    print('epoch: %02d,' % (epoch + 1), 'loss = {:.3f}'.format(avg_loss))\n",
        "\n",
        "print('\\nTraining is completed')"
      ],
      "execution_count": null,
      "outputs": [
        {
          "output_type": "stream",
          "text": [
            "epoch: 01, loss = 2.185\n",
            "epoch: 02, loss = 1.992\n",
            "epoch: 03, loss = 1.882\n",
            "epoch: 04, loss = 1.818\n",
            "epoch: 05, loss = 1.776\n",
            "epoch: 06, loss = 1.747\n",
            "epoch: 07, loss = 1.725\n",
            "epoch: 08, loss = 1.709\n",
            "epoch: 09, loss = 1.696\n",
            "epoch: 10, loss = 1.686\n",
            "\n",
            "Training is completed\n"
          ],
          "name": "stdout"
        }
      ]
    },
    {
      "cell_type": "code",
      "metadata": {
        "colab": {
          "base_uri": "https://localhost:8080/"
        },
        "id": "21D250tkimRl",
        "outputId": "58cbfeba-e313-4418-fa25-738dedcce325"
      },
      "source": [
        "# Validation\n",
        "\n",
        "correct = 0\n",
        "total = 0\n",
        "\n",
        "for data, target in val_loader:\n",
        "    data = data.reshape(-1, 784).to('cuda')\n",
        "    target = target.to('cuda')\n",
        "\n",
        "    pred = model(data)\n",
        "\n",
        "    correct += (torch.argmax(pred, 1) == target).sum()\n",
        "    total += len(data)\n",
        "\n",
        "print('Accuracy: %d / %d'%(correct, total))"
      ],
      "execution_count": null,
      "outputs": [
        {
          "output_type": "stream",
          "text": [
            "Accuracy: 809 / 1000\n"
          ],
          "name": "stdout"
        }
      ]
    },
    {
      "cell_type": "code",
      "metadata": {
        "colab": {
          "base_uri": "https://localhost:8080/"
        },
        "id": "ZWpfTfAHMPl_",
        "outputId": "ebcf3d0e-0c10-4498-c1fd-ace20e779f27"
      },
      "source": [
        "# Test accuracy (test_loader 이용하는 방식)\n",
        "\n",
        "correct = 0\n",
        "total = 0\n",
        "\n",
        "with torch.no_grad():\n",
        "  for batch_idx, (X_test, y_test) in enumerate(test_loader):\n",
        "      X_test = X_test.reshape(-1, 784).to('cuda')\n",
        "      y_test = y_test.to('cuda')\n",
        "\n",
        "      pred = model(X_test)\n",
        "      # pred의 각 행에서 가장 높은 값의 index 와 y_test가 일치한 개수\n",
        "      correct += (torch.argmax(pred, 1) == y_test).sum()\n",
        "      total += len(X_test)\n",
        "\n",
        "print('Accuracy: %d / %d'%(correct, total))"
      ],
      "execution_count": null,
      "outputs": [
        {
          "output_type": "stream",
          "text": [
            "Accuracy: 8096 / 10000\n"
          ],
          "name": "stdout"
        }
      ]
    },
    {
      "cell_type": "code",
      "metadata": {
        "colab": {
          "base_uri": "https://localhost:8080/"
        },
        "id": "oj5Nis-sBOII",
        "outputId": "a05437b5-d8ae-4364-ff3a-1cc1d6dc82d9"
      },
      "source": [
        "# Test accuracy 다른 방식 (test_data 이용하는 방식)\n",
        "\n",
        "#test data이므로 grad 계산 안함\n",
        "with torch.no_grad():\n",
        "    X_test = test_data.data.view(-1, 28*28).float().to('cuda')\n",
        "    y_test = test_data.targets.to('cuda')\n",
        "\n",
        "    pred = model(X_test)\n",
        "\n",
        "    # pred의 각 행에서 가장 높은 값의 index 와 y_test가 일치하면 True 아니면 False\n",
        "    correct = torch.argmax(pred, 1) == y_test\n",
        "\n",
        "    print('Accuracy: %d / %d'%(correct.sum(), X_test.shape[0]))\n",
        "\n",
        "    # accuracy = correct.float().mean()\n",
        "    # print('Accuracy: %d / %d'%(correct.sum(), X_test.shape[0]), '({:.2f})'.format(accuracy.item()))\n"
      ],
      "execution_count": null,
      "outputs": [
        {
          "output_type": "stream",
          "text": [
            "Accuracy: 7039 / 10000\n"
          ],
          "name": "stdout"
        }
      ]
    },
    {
      "cell_type": "code",
      "metadata": {
        "colab": {
          "base_uri": "https://localhost:8080/",
          "height": 301
        },
        "id": "qmBRi97pLFew",
        "outputId": "568a1fe6-1b66-45f8-981f-827cc4211102"
      },
      "source": [
        "# 랜덤으로 숫자 뽑아서 test\n",
        "\n",
        "r = random.randint(0, len(test_data)-1) # 0~9999까지 랜덤한 정수\n",
        "X_single_data = test_data.data[r].view(-1, 28*28).float().to('cuda')\n",
        "Y_single_data = test_data.targets[r].to('cuda')\n",
        "\n",
        "print('Label:', Y_single_data.item())\n",
        "single_prediction = model(X_single_data)\n",
        "print('Prediction: ', torch.argmax(single_prediction, 1).item())\n",
        "\n",
        "plt.imshow(test_data.data[r].view(28,28), cmap='Greys', interpolation='nearest')\n",
        "plt.show()"
      ],
      "execution_count": null,
      "outputs": [
        {
          "output_type": "stream",
          "text": [
            "Label: 3\n",
            "Prediction:  3\n"
          ],
          "name": "stdout"
        },
        {
          "output_type": "display_data",
          "data": {
            "image/png": "[encoded data removed]",
            "text/plain": [
              "<Figure size 432x288 with 1 Axes>"
            ]
          },
          "metadata": {
            "tags": [],
            "needs_background": "light"
          }
        }
      ]
    },
    {
      "cell_type": "code",
      "metadata": {
        "colab": {
          "base_uri": "https://localhost:8080/"
        },
        "id": "yMOmW1nhLqBf",
        "outputId": "f73cf32f-d7db-46d5-cad7-93056a27dfb7"
      },
      "source": [
        "\n",
        "# Validation\n",
        "\n",
        "correct = 0\n",
        "total = 0\n",
        "\n",
        "for data, target in val_loader:\n",
        "    data = data.reshape(-1, 784).to('cuda')\n",
        "    target = target.to('cuda')\n",
        "\n",
        "    pred = model(data)\n",
        "    # print('======', batch_idx, '=======')\n",
        "    # print('target: ', target)\n",
        "    # print(len(target))\n",
        "    # print('pred: ', torch.argmax(pred, 1))\n",
        "    # print(len(torch.argmax(pred, 1)))\n",
        "\n",
        "    correct += (torch.argmax(pred, 1) == target).sum()\n",
        "    total += len(data)\n",
        "\n",
        "print('Accuracy: %d / %d'%(correct, total))\n"
      ],
      "execution_count": null,
      "outputs": [
        {
          "output_type": "stream",
          "text": [
            "Accuracy: 8826 / 10000\n"
          ],
          "name": "stdout"
        }
      ]
    },
    {
      "cell_type": "code",
      "metadata": {
        "id": "rnbYdSqeL3vo",
        "colab": {
          "base_uri": "https://localhost:8080/"
        },
        "outputId": "c2ab7060-c4c5-4723-deec-ca5c2d8144cb"
      },
      "source": [
        "print('train_data: ', len(train_data))\n",
        "print(type(train_data))\n",
        "print('train_loader: ', len(train_loader))\n",
        "print(type(train_loader))\n",
        "\n"
      ],
      "execution_count": null,
      "outputs": [
        {
          "output_type": "stream",
          "text": [
            "train_data:  59000\n",
            "<class 'torch.utils.data.dataset.Subset'>\n",
            "train_loader:  590\n",
            "<class 'torch.utils.data.dataloader.DataLoader'>\n"
          ],
          "name": "stdout"
        }
      ]
    },
    {
      "cell_type": "code",
      "metadata": {
        "id": "nS5696ZFW0QL"
      },
      "source": [
        "# # Validation\n",
        "\n",
        "with torch.no_grad():\n",
        "  for data, target in test_loader:\n",
        "    data = data.reshape(-1, 784).to('cpu')\n",
        "    target = target.to('cpu')\n",
        "\n",
        "    output = model(data)\n",
        "    loss = compute_loss(output, target)\n",
        "    pred = torch.argmax(prediction, 1) == Y_test\n",
        "\n",
        "\n",
        "    output = network(data)\n",
        "    test_loss += F.nll_loss(output, target, size_average=False).item()\n",
        "    pred = output.data.max(1, keepdim=True)[1]\n",
        "    correct += pred.eq(target.data.view_as(pred)).sum()\n",
        "test_loss /= len(test_loader.dataset)\n",
        "test_losses.append(test_loss)\n",
        "print('\\nTest set: Avg. loss: {:.4f}, Accuracy: {}/{} ({:.0f}%)\\n'.format(\n",
        "  test_loss, correct, len(test_loader.dataset),\n",
        "  100. * correct / len(test_loader.dataset)))\n",
        "\n",
        "\n",
        "          data = data.reshape(-1, 784).to('cpu')\n",
        "        target = target.to('cpu')\n",
        "\n",
        "        optimizer.zero_grad()\n",
        "        hypothesis = model(data)\n",
        "        loss = compute_loss(hypothesis, target)\n",
        "        loss.backward()\n",
        "        optimizer.step()\n",
        "\n",
        "# #test data이므로 grad 계산 안함\n",
        "# with torch.no_grad():\n",
        "#     X_test = test_data.test_data.view(-1, 28*28).float().to('cpu')\n",
        "#     Y_test = test_data.test_labels.to('cpu')\n",
        "\n",
        "#     prediction = model(X_test) # (10000, 10)\n",
        "#     correct_prediction = torch.argmax(prediction, 1) == Y_test\n",
        "#     # prediction에서 한 행마다 가장 높은 값의 index 와 Y_test가 일치하면 그건 맞다고 판단\n",
        "#     accuracy = correct_prediction.float().mean()\n",
        "#     print('Accuracy:', accuracy.item()) "
      ],
      "execution_count": null,
      "outputs": []
    }
  ]
}